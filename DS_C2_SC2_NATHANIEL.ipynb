{
  "cells": [
    {
      "cell_type": "markdown",
      "metadata": {
        "id": "1H-MSolqprtA"
      },
      "source": [
        "**a.- Extración de la inforamción del archivo \"Country Vacunations\"**\n",
        "\n",
        "---\n",
        "En este paso utilizaremos los frameworks de Pandas y NumPy para realizar la extracción y el análisis de la información"
      ]
    },
    {
      "cell_type": "code",
      "execution_count": 5,
      "metadata": {
        "colab": {
          "base_uri": "https://localhost:8080/"
        },
        "collapsed": true,
        "id": "Vhq7hRPGpSUm",
        "outputId": "b0d29f0c-b5b6-4843-d745-49a4618613a4"
      },
      "outputs": [
        {
          "name": "stdout",
          "output_type": "stream",
          "text": [
            "           country iso_code        date  total_vaccinations  \\\n",
            "0      Afghanistan      AFG  2021-02-22                 0.0   \n",
            "1      Afghanistan      AFG  2021-02-23                 NaN   \n",
            "2      Afghanistan      AFG  2021-02-24                 NaN   \n",
            "3      Afghanistan      AFG  2021-02-25                 NaN   \n",
            "4      Afghanistan      AFG  2021-02-26                 NaN   \n",
            "...            ...      ...         ...                 ...   \n",
            "86507     Zimbabwe      ZWE  2022-03-25           8691642.0   \n",
            "86508     Zimbabwe      ZWE  2022-03-26           8791728.0   \n",
            "86509     Zimbabwe      ZWE  2022-03-27           8845039.0   \n",
            "86510     Zimbabwe      ZWE  2022-03-28           8934360.0   \n",
            "86511     Zimbabwe      ZWE  2022-03-29           9039729.0   \n",
            "\n",
            "       people_vaccinated  people_fully_vaccinated  daily_vaccinations_raw  \\\n",
            "0                    0.0                      NaN                     NaN   \n",
            "1                    NaN                      NaN                     NaN   \n",
            "2                    NaN                      NaN                     NaN   \n",
            "3                    NaN                      NaN                     NaN   \n",
            "4                    NaN                      NaN                     NaN   \n",
            "...                  ...                      ...                     ...   \n",
            "86507          4814582.0                3473523.0                139213.0   \n",
            "86508          4886242.0                3487962.0                100086.0   \n",
            "86509          4918147.0                3493763.0                 53311.0   \n",
            "86510          4975433.0                3501493.0                 89321.0   \n",
            "86511          5053114.0                3510256.0                105369.0   \n",
            "\n",
            "       daily_vaccinations  total_vaccinations_per_hundred  \\\n",
            "0                     NaN                            0.00   \n",
            "1                  1367.0                             NaN   \n",
            "2                  1367.0                             NaN   \n",
            "3                  1367.0                             NaN   \n",
            "4                  1367.0                             NaN   \n",
            "...                   ...                             ...   \n",
            "86507             69579.0                           57.59   \n",
            "86508             83429.0                           58.25   \n",
            "86509             90629.0                           58.61   \n",
            "86510            100614.0                           59.20   \n",
            "86511            103751.0                           59.90   \n",
            "\n",
            "       people_vaccinated_per_hundred  people_fully_vaccinated_per_hundred  \\\n",
            "0                               0.00                                  NaN   \n",
            "1                                NaN                                  NaN   \n",
            "2                                NaN                                  NaN   \n",
            "3                                NaN                                  NaN   \n",
            "4                                NaN                                  NaN   \n",
            "...                              ...                                  ...   \n",
            "86507                          31.90                                23.02   \n",
            "86508                          32.38                                23.11   \n",
            "86509                          32.59                                23.15   \n",
            "86510                          32.97                                23.20   \n",
            "86511                          33.48                                23.26   \n",
            "\n",
            "       daily_vaccinations_per_million  \\\n",
            "0                                 NaN   \n",
            "1                                34.0   \n",
            "2                                34.0   \n",
            "3                                34.0   \n",
            "4                                34.0   \n",
            "...                               ...   \n",
            "86507                          4610.0   \n",
            "86508                          5528.0   \n",
            "86509                          6005.0   \n",
            "86510                          6667.0   \n",
            "86511                          6874.0   \n",
            "\n",
            "                                                vaccines  \\\n",
            "0      Johnson&Johnson, Oxford/AstraZeneca, Pfizer/Bi...   \n",
            "1      Johnson&Johnson, Oxford/AstraZeneca, Pfizer/Bi...   \n",
            "2      Johnson&Johnson, Oxford/AstraZeneca, Pfizer/Bi...   \n",
            "3      Johnson&Johnson, Oxford/AstraZeneca, Pfizer/Bi...   \n",
            "4      Johnson&Johnson, Oxford/AstraZeneca, Pfizer/Bi...   \n",
            "...                                                  ...   \n",
            "86507  Oxford/AstraZeneca, Sinopharm/Beijing, Sinovac...   \n",
            "86508  Oxford/AstraZeneca, Sinopharm/Beijing, Sinovac...   \n",
            "86509  Oxford/AstraZeneca, Sinopharm/Beijing, Sinovac...   \n",
            "86510  Oxford/AstraZeneca, Sinopharm/Beijing, Sinovac...   \n",
            "86511  Oxford/AstraZeneca, Sinopharm/Beijing, Sinovac...   \n",
            "\n",
            "                     source_name  \\\n",
            "0      World Health Organization   \n",
            "1      World Health Organization   \n",
            "2      World Health Organization   \n",
            "3      World Health Organization   \n",
            "4      World Health Organization   \n",
            "...                          ...   \n",
            "86507         Ministry of Health   \n",
            "86508         Ministry of Health   \n",
            "86509         Ministry of Health   \n",
            "86510         Ministry of Health   \n",
            "86511         Ministry of Health   \n",
            "\n",
            "                                          source_website  \n",
            "0                               https://covid19.who.int/  \n",
            "1                               https://covid19.who.int/  \n",
            "2                               https://covid19.who.int/  \n",
            "3                               https://covid19.who.int/  \n",
            "4                               https://covid19.who.int/  \n",
            "...                                                  ...  \n",
            "86507  https://www.arcgis.com/home/webmap/viewer.html...  \n",
            "86508  https://www.arcgis.com/home/webmap/viewer.html...  \n",
            "86509  https://www.arcgis.com/home/webmap/viewer.html...  \n",
            "86510  https://www.arcgis.com/home/webmap/viewer.html...  \n",
            "86511  https://www.arcgis.com/home/webmap/viewer.html...  \n",
            "\n",
            "[86512 rows x 15 columns]\n"
          ]
        }
      ],
      "source": [
        "#Llamamos a los frameworks con los que vamos a trabajar\n",
        "import numpy as np\n",
        "import pandas as pd\n",
        "\n",
        "#Lectura y extración de la inforamción\n",
        "file_path = 'Country_vaccinations.csv'\n",
        "df = pd.read_csv(file_path)\n",
        "\n",
        "#Mostrar la información\n",
        "print(df)"
      ]
    },
    {
      "cell_type": "markdown",
      "metadata": {
        "id": "2Ry5g1OCrlmh"
      },
      "source": [
        "**b.- Tipos de operación y tipos de datos de cada columna**\n",
        "\n",
        "---\n",
        "En este paso identificaremos que tipo de estructura tendremos para cada una de las columnas así como el tipo de datos que contendra cada una, tambien nos aseguraremos que las fechas sean del tipo datatime64"
      ]
    },
    {
      "cell_type": "code",
      "execution_count": null,
      "metadata": {
        "colab": {
          "base_uri": "https://localhost:8080/"
        },
        "collapsed": true,
        "id": "_VcMatsFsNLF",
        "outputId": "95de390a-8064-40a3-ceb7-8724eace9b70"
      },
      "outputs": [
        {
          "name": "stdout",
          "output_type": "stream",
          "text": [
            "country                                        object\n",
            "iso_code                                       object\n",
            "date                                   datetime64[ns]\n",
            "total_vaccinations                            float64\n",
            "people_vaccinated                             float64\n",
            "people_fully_vaccinated                       float64\n",
            "daily_vaccinations_raw                        float64\n",
            "daily_vaccinations                            float64\n",
            "total_vaccinations_per_hundred                float64\n",
            "people_vaccinated_per_hundred                 float64\n",
            "people_fully_vaccinated_per_hundred           float64\n",
            "daily_vaccinations_per_million                float64\n",
            "vaccines                                       object\n",
            "source_name                                    object\n",
            "source_website                                 object\n",
            "dtype: object\n"
          ]
        }
      ],
      "source": [
        "#Conversión del dataframe a datetime64\n",
        "df['date'] = pd.to_datetime(df['date'])\n",
        "\n",
        "#Mostrar el tipo de estructura y dato de cada una de las columnas\n",
        "df_info = df.dtypes\n",
        "print(df_info)"
      ]
    },
    {
      "cell_type": "markdown",
      "metadata": {
        "id": "PaQLxB8MtaYw"
      },
      "source": [
        "**c.- Agrupación por compañia que elabora las vacunas y su total de aplcicaciones**\n",
        "\n",
        "---\n",
        "En esta paso agruparemos las vacunas de acuerdo a la compañia que las desarrollo así como el total que se han adminsitrado por compañia"
      ]
    },
    {
      "cell_type": "code",
      "execution_count": null,
      "metadata": {
        "colab": {
          "base_uri": "https://localhost:8080/"
        },
        "collapsed": true,
        "id": "Rxb3kQxeuz0G",
        "outputId": "1060cddc-4999-45e1-9db7-fc08372801b0"
      },
      "outputs": [
        {
          "name": "stdout",
          "output_type": "stream",
          "text": [
            "vaccines\n",
            "Abdala, Johnson&Johnson, Oxford/AstraZeneca, Pfizer/BioNTech, Soberana02, Sputnik Light, Sputnik V                            1.784348e+08\n",
            "Abdala, Moderna, Oxford/AstraZeneca, Pfizer/BioNTech, Sinopharm/Beijing, Sputnik V                                            1.791450e+10\n",
            "Abdala, Sinopharm/Beijing, Sinovac, Soberana02, Sputnik Light, Sputnik V                                                      4.228568e+08\n",
            "Abdala, Soberana Plus, Soberana02                                                                                             6.405166e+09\n",
            "COVIran Barekat, Covaxin, FAKHRAVAC, Oxford/AstraZeneca, Razi Cov Pars, Sinopharm/Beijing, Soberana02, SpikoGen, Sputnik V    1.069480e+10\n",
            "                                                                                                                                  ...     \n",
            "Pfizer/BioNTech, Sinovac, Turkovac                                                                                            3.392310e+10\n",
            "Pfizer/BioNTech, Sputnik V                                                                                                    3.863380e+06\n",
            "QazVac, Sinopharm/Beijing, Sputnik V                                                                                          3.585429e+09\n",
            "Sinopharm/Beijing                                                                                                             3.080671e+07\n",
            "Sinopharm/Beijing, Sputnik V                                                                                                  6.451243e+08\n",
            "Name: total_vaccinations, Length: 84, dtype: float64\n"
          ]
        }
      ],
      "source": [
        "#Agrupación de la columna 'Vaccines' y la sumatoria del total de vacunas\n",
        "vacciones_agrupacion = df.groupby('vaccines')['total_vaccinations'].sum()\n",
        "print(vacciones_agrupacion)"
      ]
    },
    {
      "cell_type": "markdown",
      "metadata": {
        "id": "uC_7i89Cwhiw"
      },
      "source": [
        "**d.- Total de Vacunas aplicadas en todo el mundo**\n",
        "\n",
        "---\n",
        "Se sumara el total de vacunas aplicadas en todo el mundo"
      ]
    },
    {
      "cell_type": "code",
      "execution_count": null,
      "metadata": {
        "colab": {
          "base_uri": "https://localhost:8080/"
        },
        "collapsed": true,
        "id": "4YuYsBuMwoWL",
        "outputId": "af6b1256-c93b-4dad-da1c-278a43d5ae9a"
      },
      "outputs": [
        {
          "name": "stdout",
          "output_type": "stream",
          "text": [
            "2002854013761.0\n"
          ]
        }
      ],
      "source": [
        "#Calculo para la sumatoria del total de vacunaciones a nivel mundial\n",
        "\n",
        "total_vacunas_mundo = df['total_vaccinations'].sum()\n",
        "print(total_vacunas_mundo)"
      ]
    },
    {
      "cell_type": "markdown",
      "metadata": {
        "id": "ZUQB6bHcw9WD"
      },
      "source": [
        "**e.-Promedio de vacunas aplicadas por país**\n",
        "\n",
        "---\n",
        "Se calculara un promedio de vacunas aplicadas por cada uno de los países en la base de datos\n"
      ]
    },
    {
      "cell_type": "code",
      "execution_count": null,
      "metadata": {
        "colab": {
          "base_uri": "https://localhost:8080/"
        },
        "collapsed": true,
        "id": "rCSqLAiQxqU0",
        "outputId": "c3a5c50a-5e37-4561-ebee-79cfd71603e5"
      },
      "outputs": [
        {
          "name": "stdout",
          "output_type": "stream",
          "text": [
            "country\n",
            "Afghanistan          2.566118e+06\n",
            "Albania              1.191695e+06\n",
            "Algeria              9.956086e+06\n",
            "Andorra              5.827721e+04\n",
            "Angola               6.074066e+06\n",
            "                         ...     \n",
            "Wales                4.132861e+06\n",
            "Wallis and Futuna    9.142925e+03\n",
            "Yemen                4.794049e+05\n",
            "Zambia               1.048484e+06\n",
            "Zimbabwe             4.181618e+06\n",
            "Name: total_vaccinations, Length: 223, dtype: float64\n",
            "Promedio de vacunación mundo:  8981408133.4574\n"
          ]
        }
      ],
      "source": [
        "#Calculo de Promedio por País\n",
        "promedio_vacunas_por_pais = df.groupby('country')['total_vaccinations'].mean()\n",
        "print(promedio_vacunas_por_pais)\n",
        "\n",
        "#Calculo de Promedio Total Mundo\n",
        "promedio_vacunas_mundo = df.groupby('country')['total_vaccinations'].sum().mean()\n",
        "print('Promedio de vacunación mundo: ',promedio_vacunas_mundo)"
      ]
    },
    {
      "cell_type": "markdown",
      "metadata": {
        "id": "qGO0Cj45zI0z"
      },
      "source": [
        "**f.- Cantidad de vacunas aplicadas el día 29/01/21 en todo el mundo**\n",
        "\n",
        "---\n",
        "\n",
        "Se Calculara la suma de todas las vacunas a nivel mundial el día 29/01/21"
      ]
    },
    {
      "cell_type": "code",
      "execution_count": null,
      "metadata": {
        "colab": {
          "base_uri": "https://localhost:8080/"
        },
        "id": "FF3xS4bUz9Zo",
        "outputId": "39337249-de76-4607-b995-bf435db7c18a"
      },
      "outputs": [
        {
          "name": "stdout",
          "output_type": "stream",
          "text": [
            "Total de vacunas aplicadas el día 29/01/21: 82952931.0\n"
          ]
        }
      ],
      "source": [
        "#Total de vacunas aplicadas el día 29/01/21\n",
        "total_vacunas_290121 = df[df['date'] == '2021-01-29']['total_vaccinations'].sum()\n",
        "print('Total de vacunas aplicadas el día 29/01/21:', total_vacunas_290121)"
      ]
    },
    {
      "cell_type": "markdown",
      "metadata": {
        "id": "urVS73q709EX"
      },
      "source": [
        "**g.- Creación de DataFrame conDiferencias**\n",
        "\n",
        "---\n",
        "En este nuevo data frame estaran los datos originales y una nueva columna derivada con las deiferencias de aplicación entre las columnas \"daily_vaccinations\" y \"daily_vaccinations_raw\"\n"
      ]
    },
    {
      "cell_type": "code",
      "execution_count": null,
      "metadata": {
        "colab": {
          "base_uri": "https://localhost:8080/"
        },
        "collapsed": true,
        "id": "3eKmGTPM1Ylq",
        "outputId": "d46482ca-d4c0-414f-b55a-230abd9833f3"
      },
      "outputs": [
        {
          "name": "stdout",
          "output_type": "stream",
          "text": [
            "           country iso_code        date  total_vaccinations  \\\n",
            "0      Afghanistan      AFG  2021-02-22                 0.0   \n",
            "1      Afghanistan      AFG  2021-02-23                 NaN   \n",
            "2      Afghanistan      AFG  2021-02-24                 NaN   \n",
            "3      Afghanistan      AFG  2021-02-25                 NaN   \n",
            "4      Afghanistan      AFG  2021-02-26                 NaN   \n",
            "...            ...      ...         ...                 ...   \n",
            "86507     Zimbabwe      ZWE  2022-03-25           8691642.0   \n",
            "86508     Zimbabwe      ZWE  2022-03-26           8791728.0   \n",
            "86509     Zimbabwe      ZWE  2022-03-27           8845039.0   \n",
            "86510     Zimbabwe      ZWE  2022-03-28           8934360.0   \n",
            "86511     Zimbabwe      ZWE  2022-03-29           9039729.0   \n",
            "\n",
            "       people_vaccinated  people_fully_vaccinated  daily_vaccinations_raw  \\\n",
            "0                    0.0                      NaN                     NaN   \n",
            "1                    NaN                      NaN                     NaN   \n",
            "2                    NaN                      NaN                     NaN   \n",
            "3                    NaN                      NaN                     NaN   \n",
            "4                    NaN                      NaN                     NaN   \n",
            "...                  ...                      ...                     ...   \n",
            "86507          4814582.0                3473523.0                139213.0   \n",
            "86508          4886242.0                3487962.0                100086.0   \n",
            "86509          4918147.0                3493763.0                 53311.0   \n",
            "86510          4975433.0                3501493.0                 89321.0   \n",
            "86511          5053114.0                3510256.0                105369.0   \n",
            "\n",
            "       daily_vaccinations  total_vaccinations_per_hundred  \\\n",
            "0                     NaN                            0.00   \n",
            "1                  1367.0                             NaN   \n",
            "2                  1367.0                             NaN   \n",
            "3                  1367.0                             NaN   \n",
            "4                  1367.0                             NaN   \n",
            "...                   ...                             ...   \n",
            "86507             69579.0                           57.59   \n",
            "86508             83429.0                           58.25   \n",
            "86509             90629.0                           58.61   \n",
            "86510            100614.0                           59.20   \n",
            "86511            103751.0                           59.90   \n",
            "\n",
            "       people_vaccinated_per_hundred  people_fully_vaccinated_per_hundred  \\\n",
            "0                               0.00                                  NaN   \n",
            "1                                NaN                                  NaN   \n",
            "2                                NaN                                  NaN   \n",
            "3                                NaN                                  NaN   \n",
            "4                                NaN                                  NaN   \n",
            "...                              ...                                  ...   \n",
            "86507                          31.90                                23.02   \n",
            "86508                          32.38                                23.11   \n",
            "86509                          32.59                                23.15   \n",
            "86510                          32.97                                23.20   \n",
            "86511                          33.48                                23.26   \n",
            "\n",
            "       daily_vaccinations_per_million  \\\n",
            "0                                 NaN   \n",
            "1                                34.0   \n",
            "2                                34.0   \n",
            "3                                34.0   \n",
            "4                                34.0   \n",
            "...                               ...   \n",
            "86507                          4610.0   \n",
            "86508                          5528.0   \n",
            "86509                          6005.0   \n",
            "86510                          6667.0   \n",
            "86511                          6874.0   \n",
            "\n",
            "                                                vaccines  \\\n",
            "0      Johnson&Johnson, Oxford/AstraZeneca, Pfizer/Bi...   \n",
            "1      Johnson&Johnson, Oxford/AstraZeneca, Pfizer/Bi...   \n",
            "2      Johnson&Johnson, Oxford/AstraZeneca, Pfizer/Bi...   \n",
            "3      Johnson&Johnson, Oxford/AstraZeneca, Pfizer/Bi...   \n",
            "4      Johnson&Johnson, Oxford/AstraZeneca, Pfizer/Bi...   \n",
            "...                                                  ...   \n",
            "86507  Oxford/AstraZeneca, Sinopharm/Beijing, Sinovac...   \n",
            "86508  Oxford/AstraZeneca, Sinopharm/Beijing, Sinovac...   \n",
            "86509  Oxford/AstraZeneca, Sinopharm/Beijing, Sinovac...   \n",
            "86510  Oxford/AstraZeneca, Sinopharm/Beijing, Sinovac...   \n",
            "86511  Oxford/AstraZeneca, Sinopharm/Beijing, Sinovac...   \n",
            "\n",
            "                     source_name  \\\n",
            "0      World Health Organization   \n",
            "1      World Health Organization   \n",
            "2      World Health Organization   \n",
            "3      World Health Organization   \n",
            "4      World Health Organization   \n",
            "...                          ...   \n",
            "86507         Ministry of Health   \n",
            "86508         Ministry of Health   \n",
            "86509         Ministry of Health   \n",
            "86510         Ministry of Health   \n",
            "86511         Ministry of Health   \n",
            "\n",
            "                                          source_website  diferencias  \n",
            "0                               https://covid19.who.int/          NaN  \n",
            "1                               https://covid19.who.int/          NaN  \n",
            "2                               https://covid19.who.int/          NaN  \n",
            "3                               https://covid19.who.int/          NaN  \n",
            "4                               https://covid19.who.int/          NaN  \n",
            "...                                                  ...          ...  \n",
            "86507  https://www.arcgis.com/home/webmap/viewer.html...     -69634.0  \n",
            "86508  https://www.arcgis.com/home/webmap/viewer.html...     -16657.0  \n",
            "86509  https://www.arcgis.com/home/webmap/viewer.html...      37318.0  \n",
            "86510  https://www.arcgis.com/home/webmap/viewer.html...      11293.0  \n",
            "86511  https://www.arcgis.com/home/webmap/viewer.html...      -1618.0  \n",
            "\n",
            "[86512 rows x 16 columns]\n"
          ]
        }
      ],
      "source": [
        "#Creación de nueva cliuma con la diferencia las columnas daily_vaccinatiosn y daily_vaccinations_raw\n",
        "df['diferencias'] = df['daily_vaccinations'] - df['daily_vaccinations_raw']\n",
        "\n",
        "#Creación del nuevo DataFrame conDiferencias\n",
        "conDiferencias = df.copy()\n",
        "print(conDiferencias)\n"
      ]
    },
    {
      "cell_type": "markdown",
      "metadata": {
        "id": "-NPxpr8Z2oPR"
      },
      "source": [
        "**h.- Periodos de tiempo**\n",
        "\n",
        "---\n",
        "Se obtendra el periodo de tiempo entre el resistro con fecha más reciente y el registro con fecha más antigua\n"
      ]
    },
    {
      "cell_type": "code",
      "execution_count": null,
      "metadata": {
        "colab": {
          "base_uri": "https://localhost:8080/"
        },
        "collapsed": true,
        "id": "S8hG-yRH2100",
        "outputId": "78c4f9c5-33bd-46b6-d856-94c7875dc997"
      },
      "outputs": [
        {
          "name": "stdout",
          "output_type": "stream",
          "text": [
            "482 days 00:00:00\n"
          ]
        }
      ],
      "source": [
        "#Obtención de fecha más reciente y más antigua\n",
        "fecha_mas_reciente = df['date'].max()\n",
        "fecha_mas_antigua = df['date'].min()\n",
        "\n",
        "#Obtención del periodo de tiempo\n",
        "periodo_tiempo = fecha_mas_reciente - fecha_mas_antigua\n",
        "print(periodo_tiempo)"
      ]
    },
    {
      "cell_type": "markdown",
      "metadata": {
        "id": "qlaPDIHx21Co"
      },
      "source": [
        "**i.- Creación del DataFrame conCantidad**\n",
        "\n",
        "---\n",
        "\n",
        "Se creara un nuevo DataFrame llamado conCantidad este contendra los datos originales ademas de una nueva columna llamada conVac con la cantidad de vacunas utilizadas cada día"
      ]
    },
    {
      "cell_type": "code",
      "execution_count": null,
      "metadata": {
        "colab": {
          "base_uri": "https://localhost:8080/"
        },
        "collapsed": true,
        "id": "63V5Cc4q28yp",
        "outputId": "bde993a6-47e0-47b5-a749-ff8767e93f1a"
      },
      "outputs": [
        {
          "name": "stdout",
          "output_type": "stream",
          "text": [
            "           country iso_code        date  total_vaccinations  \\\n",
            "0      Afghanistan      AFG  2021-02-22                 0.0   \n",
            "1      Afghanistan      AFG  2021-02-23                 NaN   \n",
            "2      Afghanistan      AFG  2021-02-24                 NaN   \n",
            "3      Afghanistan      AFG  2021-02-25                 NaN   \n",
            "4      Afghanistan      AFG  2021-02-26                 NaN   \n",
            "...            ...      ...         ...                 ...   \n",
            "86507     Zimbabwe      ZWE  2022-03-25           8691642.0   \n",
            "86508     Zimbabwe      ZWE  2022-03-26           8791728.0   \n",
            "86509     Zimbabwe      ZWE  2022-03-27           8845039.0   \n",
            "86510     Zimbabwe      ZWE  2022-03-28           8934360.0   \n",
            "86511     Zimbabwe      ZWE  2022-03-29           9039729.0   \n",
            "\n",
            "       people_vaccinated  people_fully_vaccinated  daily_vaccinations_raw  \\\n",
            "0                    0.0                      NaN                     NaN   \n",
            "1                    NaN                      NaN                     NaN   \n",
            "2                    NaN                      NaN                     NaN   \n",
            "3                    NaN                      NaN                     NaN   \n",
            "4                    NaN                      NaN                     NaN   \n",
            "...                  ...                      ...                     ...   \n",
            "86507          4814582.0                3473523.0                139213.0   \n",
            "86508          4886242.0                3487962.0                100086.0   \n",
            "86509          4918147.0                3493763.0                 53311.0   \n",
            "86510          4975433.0                3501493.0                 89321.0   \n",
            "86511          5053114.0                3510256.0                105369.0   \n",
            "\n",
            "       daily_vaccinations  total_vaccinations_per_hundred  \\\n",
            "0                     NaN                            0.00   \n",
            "1                  1367.0                             NaN   \n",
            "2                  1367.0                             NaN   \n",
            "3                  1367.0                             NaN   \n",
            "4                  1367.0                             NaN   \n",
            "...                   ...                             ...   \n",
            "86507             69579.0                           57.59   \n",
            "86508             83429.0                           58.25   \n",
            "86509             90629.0                           58.61   \n",
            "86510            100614.0                           59.20   \n",
            "86511            103751.0                           59.90   \n",
            "\n",
            "       people_vaccinated_per_hundred  people_fully_vaccinated_per_hundred  \\\n",
            "0                               0.00                                  NaN   \n",
            "1                                NaN                                  NaN   \n",
            "2                                NaN                                  NaN   \n",
            "3                                NaN                                  NaN   \n",
            "4                                NaN                                  NaN   \n",
            "...                              ...                                  ...   \n",
            "86507                          31.90                                23.02   \n",
            "86508                          32.38                                23.11   \n",
            "86509                          32.59                                23.15   \n",
            "86510                          32.97                                23.20   \n",
            "86511                          33.48                                23.26   \n",
            "\n",
            "       daily_vaccinations_per_million  \\\n",
            "0                                 NaN   \n",
            "1                                34.0   \n",
            "2                                34.0   \n",
            "3                                34.0   \n",
            "4                                34.0   \n",
            "...                               ...   \n",
            "86507                          4610.0   \n",
            "86508                          5528.0   \n",
            "86509                          6005.0   \n",
            "86510                          6667.0   \n",
            "86511                          6874.0   \n",
            "\n",
            "                                                vaccines  \\\n",
            "0      Johnson&Johnson, Oxford/AstraZeneca, Pfizer/Bi...   \n",
            "1      Johnson&Johnson, Oxford/AstraZeneca, Pfizer/Bi...   \n",
            "2      Johnson&Johnson, Oxford/AstraZeneca, Pfizer/Bi...   \n",
            "3      Johnson&Johnson, Oxford/AstraZeneca, Pfizer/Bi...   \n",
            "4      Johnson&Johnson, Oxford/AstraZeneca, Pfizer/Bi...   \n",
            "...                                                  ...   \n",
            "86507  Oxford/AstraZeneca, Sinopharm/Beijing, Sinovac...   \n",
            "86508  Oxford/AstraZeneca, Sinopharm/Beijing, Sinovac...   \n",
            "86509  Oxford/AstraZeneca, Sinopharm/Beijing, Sinovac...   \n",
            "86510  Oxford/AstraZeneca, Sinopharm/Beijing, Sinovac...   \n",
            "86511  Oxford/AstraZeneca, Sinopharm/Beijing, Sinovac...   \n",
            "\n",
            "                     source_name  \\\n",
            "0      World Health Organization   \n",
            "1      World Health Organization   \n",
            "2      World Health Organization   \n",
            "3      World Health Organization   \n",
            "4      World Health Organization   \n",
            "...                          ...   \n",
            "86507         Ministry of Health   \n",
            "86508         Ministry of Health   \n",
            "86509         Ministry of Health   \n",
            "86510         Ministry of Health   \n",
            "86511         Ministry of Health   \n",
            "\n",
            "                                          source_website  diferencias  conVac  \n",
            "0                               https://covid19.who.int/          NaN       4  \n",
            "1                               https://covid19.who.int/          NaN       4  \n",
            "2                               https://covid19.who.int/          NaN       4  \n",
            "3                               https://covid19.who.int/          NaN       4  \n",
            "4                               https://covid19.who.int/          NaN       4  \n",
            "...                                                  ...          ...     ...  \n",
            "86507  https://www.arcgis.com/home/webmap/viewer.html...     -69634.0       4  \n",
            "86508  https://www.arcgis.com/home/webmap/viewer.html...     -16657.0       4  \n",
            "86509  https://www.arcgis.com/home/webmap/viewer.html...      37318.0       4  \n",
            "86510  https://www.arcgis.com/home/webmap/viewer.html...      11293.0       4  \n",
            "86511  https://www.arcgis.com/home/webmap/viewer.html...      -1618.0       4  \n",
            "\n",
            "[86512 rows x 17 columns]\n"
          ]
        }
      ],
      "source": [
        "def contar_vacunas(vaccines):\n",
        "    if pd.isna(vaccines):\n",
        "        return 0\n",
        "    else:\n",
        "        return len(vaccines.split(','))\n",
        "\n",
        "df['conVac'] = df['vaccines'].apply(contar_vacunas)\n",
        "\n",
        "#Creación del nuevo DataFrame conCantidad\n",
        "conCantidad = df.copy()\n",
        "print(conCantidad)"
      ]
    },
    {
      "cell_type": "markdown",
      "metadata": {
        "id": "jIwbGvb_289F"
      },
      "source": [
        "**j.- Creación del DataFrame antes20**\n",
        "\n",
        "---\n",
        "\n",
        "Se creara un nuevo dataframe con todos los registros anteriores a la fecha del 20 de Diciembre del 2020 (20/12/2020)"
      ]
    },
    {
      "cell_type": "code",
      "execution_count": null,
      "metadata": {
        "colab": {
          "base_uri": "https://localhost:8080/"
        },
        "collapsed": true,
        "id": "9T5ySugx3ElS",
        "outputId": "c2dd4da9-ccb2-46ca-e442-7a12120f2c23"
      },
      "outputs": [
        {
          "name": "stdout",
          "output_type": "stream",
          "text": [
            "             country iso_code        date  total_vaccinations  \\\n",
            "13403         Canada      CAN  2020-12-14                 5.0   \n",
            "13404         Canada      CAN  2020-12-15               727.0   \n",
            "13405         Canada      CAN  2020-12-16              3025.0   \n",
            "13406         Canada      CAN  2020-12-17              7279.0   \n",
            "13407         Canada      CAN  2020-12-18             11296.0   \n",
            "...              ...      ...         ...                 ...   \n",
            "82362  United States      USA  2020-12-15             84638.0   \n",
            "82363  United States      USA  2020-12-16            244549.0   \n",
            "82364  United States      USA  2020-12-17            517161.0   \n",
            "82365  United States      USA  2020-12-18            933551.0   \n",
            "82366  United States      USA  2020-12-19           1115437.0   \n",
            "\n",
            "       people_vaccinated  people_fully_vaccinated  daily_vaccinations_raw  \\\n",
            "13403                5.0                      NaN                     NaN   \n",
            "13404              727.0                      NaN                   722.0   \n",
            "13405             3025.0                      NaN                  2298.0   \n",
            "13406             7279.0                      NaN                  4254.0   \n",
            "13407            11296.0                      NaN                  4017.0   \n",
            "...                  ...                      ...                     ...   \n",
            "82362            76984.0                   6281.0                 49771.0   \n",
            "82363           231496.0                   6757.0                159911.0   \n",
            "82364           496980.0                   7507.0                272612.0   \n",
            "82365           904656.0                   8718.0                416390.0   \n",
            "82366          1082608.0                   9778.0                181886.0   \n",
            "\n",
            "       daily_vaccinations  total_vaccinations_per_hundred  \\\n",
            "13403                 NaN                            0.00   \n",
            "13404               722.0                            0.00   \n",
            "13405              1510.0                            0.01   \n",
            "13406              2425.0                            0.02   \n",
            "13407              2823.0                            0.03   \n",
            "...                   ...                             ...   \n",
            "82362             27175.0                            0.03   \n",
            "82363             71420.0                            0.07   \n",
            "82364            121718.0                            0.16   \n",
            "82365            180653.0                            0.28   \n",
            "82366            180858.0                            0.34   \n",
            "\n",
            "       people_vaccinated_per_hundred  people_fully_vaccinated_per_hundred  \\\n",
            "13403                           0.00                                  NaN   \n",
            "13404                           0.00                                  NaN   \n",
            "13405                           0.01                                  NaN   \n",
            "13406                           0.02                                  NaN   \n",
            "13407                           0.03                                  NaN   \n",
            "...                              ...                                  ...   \n",
            "82362                           0.02                                  0.0   \n",
            "82363                           0.07                                  0.0   \n",
            "82364                           0.15                                  0.0   \n",
            "82365                           0.27                                  0.0   \n",
            "82366                           0.33                                  0.0   \n",
            "\n",
            "       daily_vaccinations_per_million  \\\n",
            "13403                             NaN   \n",
            "13404                            19.0   \n",
            "13405                            40.0   \n",
            "13406                            64.0   \n",
            "13407                            74.0   \n",
            "...                               ...   \n",
            "82362                            82.0   \n",
            "82363                           215.0   \n",
            "82364                           367.0   \n",
            "82365                           544.0   \n",
            "82366                           545.0   \n",
            "\n",
            "                                                vaccines  \\\n",
            "13403  Johnson&Johnson, Moderna, Oxford/AstraZeneca, ...   \n",
            "13404  Johnson&Johnson, Moderna, Oxford/AstraZeneca, ...   \n",
            "13405  Johnson&Johnson, Moderna, Oxford/AstraZeneca, ...   \n",
            "13406  Johnson&Johnson, Moderna, Oxford/AstraZeneca, ...   \n",
            "13407  Johnson&Johnson, Moderna, Oxford/AstraZeneca, ...   \n",
            "...                                                  ...   \n",
            "82362          Johnson&Johnson, Moderna, Pfizer/BioNTech   \n",
            "82363          Johnson&Johnson, Moderna, Pfizer/BioNTech   \n",
            "82364          Johnson&Johnson, Moderna, Pfizer/BioNTech   \n",
            "82365          Johnson&Johnson, Moderna, Pfizer/BioNTech   \n",
            "82366          Johnson&Johnson, Moderna, Pfizer/BioNTech   \n",
            "\n",
            "                                             source_name  \\\n",
            "13403  Official data from provinces via covid19tracke...   \n",
            "13404  Official data from provinces via covid19tracke...   \n",
            "13405  Official data from provinces via covid19tracke...   \n",
            "13406  Official data from provinces via covid19tracke...   \n",
            "13407  Official data from provinces via covid19tracke...   \n",
            "...                                                  ...   \n",
            "82362         Centers for Disease Control and Prevention   \n",
            "82363         Centers for Disease Control and Prevention   \n",
            "82364         Centers for Disease Control and Prevention   \n",
            "82365         Centers for Disease Control and Prevention   \n",
            "82366         Centers for Disease Control and Prevention   \n",
            "\n",
            "                                          source_website  diferencias  conVac  \n",
            "13403  https://covid19tracker.ca/vaccinationtracker.html          NaN       4  \n",
            "13404  https://covid19tracker.ca/vaccinationtracker.html          0.0       4  \n",
            "13405  https://covid19tracker.ca/vaccinationtracker.html       -788.0       4  \n",
            "13406  https://covid19tracker.ca/vaccinationtracker.html      -1829.0       4  \n",
            "13407  https://covid19tracker.ca/vaccinationtracker.html      -1194.0       4  \n",
            "...                                                  ...          ...     ...  \n",
            "82362  https://data.cdc.gov/Vaccinations/COVID-19-Vac...     -22596.0       3  \n",
            "82363  https://data.cdc.gov/Vaccinations/COVID-19-Vac...     -88491.0       3  \n",
            "82364  https://data.cdc.gov/Vaccinations/COVID-19-Vac...    -150894.0       3  \n",
            "82365  https://data.cdc.gov/Vaccinations/COVID-19-Vac...    -235737.0       3  \n",
            "82366  https://data.cdc.gov/Vaccinations/COVID-19-Vac...      -1028.0       3  \n",
            "\n",
            "[70 rows x 17 columns]\n"
          ]
        }
      ],
      "source": [
        "#Se filtran con un comaprador para que nos de todos los datos antes del 20/12/2020\n",
        "antes20 = df[df['date'] < '2020-12-20']\n",
        "print(antes20)"
      ]
    },
    {
      "cell_type": "markdown",
      "metadata": {
        "id": "oIzsRPLF3Evz"
      },
      "source": [
        "**k.- Creación del DataFrame pfizer**\n",
        "\n",
        "---\n",
        "\n",
        "Se creara un nuevo data frame donde se filtraran todos los países donde se utilizaron vacunas Pfizer"
      ]
    },
    {
      "cell_type": "code",
      "execution_count": null,
      "metadata": {
        "colab": {
          "base_uri": "https://localhost:8080/"
        },
        "collapsed": true,
        "id": "D-N1GBLN3MtE",
        "outputId": "fd8beef6-ddcc-4c80-c775-46d41d95f60a"
      },
      "outputs": [
        {
          "name": "stdout",
          "output_type": "stream",
          "text": [
            "           country  iso_code        date  total_vaccinations  \\\n",
            "0      Afghanistan       AFG  2021-02-22                 0.0   \n",
            "1      Afghanistan       AFG  2021-02-23                 NaN   \n",
            "2      Afghanistan       AFG  2021-02-24                 NaN   \n",
            "3      Afghanistan       AFG  2021-02-25                 NaN   \n",
            "4      Afghanistan       AFG  2021-02-26                 NaN   \n",
            "...            ...       ...         ...                 ...   \n",
            "85069        Wales  OWID_WLS  2022-03-24           6921195.0   \n",
            "85070        Wales  OWID_WLS  2022-03-25           6923298.0   \n",
            "85071        Wales  OWID_WLS  2022-03-26           6923706.0   \n",
            "85072        Wales  OWID_WLS  2022-03-27           6925183.0   \n",
            "85073        Wales  OWID_WLS  2022-03-28           6927437.0   \n",
            "\n",
            "       people_vaccinated  people_fully_vaccinated  daily_vaccinations_raw  \\\n",
            "0                    0.0                      NaN                     NaN   \n",
            "1                    NaN                      NaN                     NaN   \n",
            "2                    NaN                      NaN                     NaN   \n",
            "3                    NaN                      NaN                     NaN   \n",
            "4                    NaN                      NaN                     NaN   \n",
            "...                  ...                      ...                     ...   \n",
            "85069          2526832.0                2397677.0                  1756.0   \n",
            "85070          2527100.0                2398097.0                  2103.0   \n",
            "85071          2527184.0                2398322.0                   408.0   \n",
            "85072          2528051.0                2398676.0                  1477.0   \n",
            "85073          2528664.0                2399341.0                  2254.0   \n",
            "\n",
            "       daily_vaccinations  total_vaccinations_per_hundred  \\\n",
            "0                     NaN                            0.00   \n",
            "1                  1367.0                             NaN   \n",
            "2                  1367.0                             NaN   \n",
            "3                  1367.0                             NaN   \n",
            "4                  1367.0                             NaN   \n",
            "...                   ...                             ...   \n",
            "85069              1705.0                          218.33   \n",
            "85070              1667.0                          218.40   \n",
            "85071              1519.0                          218.41   \n",
            "85072              1505.0                          218.46   \n",
            "85073              1609.0                          218.53   \n",
            "\n",
            "       people_vaccinated_per_hundred  people_fully_vaccinated_per_hundred  \\\n",
            "0                               0.00                                  NaN   \n",
            "1                                NaN                                  NaN   \n",
            "2                                NaN                                  NaN   \n",
            "3                                NaN                                  NaN   \n",
            "4                                NaN                                  NaN   \n",
            "...                              ...                                  ...   \n",
            "85069                          79.71                                75.64   \n",
            "85070                          79.72                                75.65   \n",
            "85071                          79.72                                75.66   \n",
            "85072                          79.75                                75.67   \n",
            "85073                          79.77                                75.69   \n",
            "\n",
            "       daily_vaccinations_per_million  \\\n",
            "0                                 NaN   \n",
            "1                                34.0   \n",
            "2                                34.0   \n",
            "3                                34.0   \n",
            "4                                34.0   \n",
            "...                               ...   \n",
            "85069                           538.0   \n",
            "85070                           526.0   \n",
            "85071                           479.0   \n",
            "85072                           475.0   \n",
            "85073                           508.0   \n",
            "\n",
            "                                                vaccines  \\\n",
            "0      Johnson&Johnson, Oxford/AstraZeneca, Pfizer/Bi...   \n",
            "1      Johnson&Johnson, Oxford/AstraZeneca, Pfizer/Bi...   \n",
            "2      Johnson&Johnson, Oxford/AstraZeneca, Pfizer/Bi...   \n",
            "3      Johnson&Johnson, Oxford/AstraZeneca, Pfizer/Bi...   \n",
            "4      Johnson&Johnson, Oxford/AstraZeneca, Pfizer/Bi...   \n",
            "...                                                  ...   \n",
            "85069       Moderna, Oxford/AstraZeneca, Pfizer/BioNTech   \n",
            "85070       Moderna, Oxford/AstraZeneca, Pfizer/BioNTech   \n",
            "85071       Moderna, Oxford/AstraZeneca, Pfizer/BioNTech   \n",
            "85072       Moderna, Oxford/AstraZeneca, Pfizer/BioNTech   \n",
            "85073       Moderna, Oxford/AstraZeneca, Pfizer/BioNTech   \n",
            "\n",
            "                            source_name  \\\n",
            "0             World Health Organization   \n",
            "1             World Health Organization   \n",
            "2             World Health Organization   \n",
            "3             World Health Organization   \n",
            "4             World Health Organization   \n",
            "...                                 ...   \n",
            "85069  Government of the United Kingdom   \n",
            "85070  Government of the United Kingdom   \n",
            "85071  Government of the United Kingdom   \n",
            "85072  Government of the United Kingdom   \n",
            "85073  Government of the United Kingdom   \n",
            "\n",
            "                                          source_website  diferencias  conVac  \n",
            "0                               https://covid19.who.int/          NaN       4  \n",
            "1                               https://covid19.who.int/          NaN       4  \n",
            "2                               https://covid19.who.int/          NaN       4  \n",
            "3                               https://covid19.who.int/          NaN       4  \n",
            "4                               https://covid19.who.int/          NaN       4  \n",
            "...                                                  ...          ...     ...  \n",
            "85069  https://coronavirus.data.gov.uk/details/vaccin...        -51.0       3  \n",
            "85070  https://coronavirus.data.gov.uk/details/vaccin...       -436.0       3  \n",
            "85071  https://coronavirus.data.gov.uk/details/vaccin...       1111.0       3  \n",
            "85072  https://coronavirus.data.gov.uk/details/vaccin...         28.0       3  \n",
            "85073  https://coronavirus.data.gov.uk/details/vaccin...       -645.0       3  \n",
            "\n",
            "[64193 rows x 17 columns]\n"
          ]
        }
      ],
      "source": [
        "#Filtrado de datos para que solo aparezcan en el nuevo dataframe los que contengan la vacuna pfizer\n",
        "pfizer = df[df['vaccines'].str.contains('Pfizer')]\n",
        "print(pfizer)"
      ]
    },
    {
      "cell_type": "markdown",
      "metadata": {
        "id": "T9b7rQx83M8s"
      },
      "source": [
        "**l.- DataFrames Generados a Excel**\n",
        "\n",
        "Generación de archivos de excel con los neuvos DataFrames separados por hoja cada uno"
      ]
    },
    {
      "cell_type": "code",
      "execution_count": null,
      "metadata": {
        "colab": {
          "base_uri": "https://localhost:8080/"
        },
        "id": "VFtsKPz73Vv0",
        "outputId": "f8d9d69a-4959-45f9-cfa0-c038aec3e217"
      },
      "outputs": [
        {
          "name": "stdout",
          "output_type": "stream",
          "text": [
            "resultadosReto.xlsx\n"
          ]
        }
      ],
      "source": [
        "#import openpyxl\n",
        "file_excel = 'resultadosReto.xlsx'\n",
        "\n",
        "with pd.ExcelWriter(file_excel, engine='openpyxl') as writer:\n",
        "    conDiferencias.to_excel(writer, sheet_name='conDiferencias', index=False)\n",
        "    conCantidad.to_excel(writer, sheet_name='conCantidad', index=False)\n",
        "    antes20.to_excel(writer, sheet_name='antes20', index=False)\n",
        "    pfizer.to_excel(writer, sheet_name='pfizer', index=False)\n",
        "\n",
        "print(file_excel)"
      ]
    }
  ],
  "metadata": {
    "colab": {
      "provenance": []
    },
    "kernelspec": {
      "display_name": "Python 3",
      "name": "python3"
    },
    "language_info": {
      "codemirror_mode": {
        "name": "ipython",
        "version": 3
      },
      "file_extension": ".py",
      "mimetype": "text/x-python",
      "name": "python",
      "nbconvert_exporter": "python",
      "pygments_lexer": "ipython3",
      "version": "3.11.9"
    }
  },
  "nbformat": 4,
  "nbformat_minor": 0
}
